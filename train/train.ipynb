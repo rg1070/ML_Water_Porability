{
 "cells": [
  {
   "cell_type": "markdown",
   "id": "e4f2046b",
   "metadata": {},
   "source": [
    "## Preprocessing"
   ]
  },
  {
   "cell_type": "code",
   "execution_count": 1,
   "id": "7535e8a2",
   "metadata": {},
   "outputs": [
    {
     "name": "stdout",
     "output_type": "stream",
     "text": [
      "Index(['ph', 'Hardness', 'Solids', 'Chloramines', 'Sulfate', 'Conductivity',\n",
      "       'Organic_carbon', 'Trihalomethanes', 'Turbidity'],\n",
      "      dtype='object') (1608, 9)\n"
     ]
    }
   ],
   "source": [
    "import pandas as pd\n",
    "from sklearn.model_selection import train_test_split\n",
    "from sklearn.preprocessing import StandardScaler\n",
    "\n",
    "df_org = pd.read_csv('data/water_potability.csv')\n",
    "\n",
    "# Handle NAs\n",
    "df = df_org.dropna()\n",
    "\n",
    "# Train and test sets\n",
    "X = df.drop('Potability',axis=1)\n",
    "Y = df['Potability']\n",
    "\n",
    "X_train, X_test, Y_train, Y_test = train_test_split(X, Y, test_size=0.2, random_state=100)\n",
    "\n",
    "scaler = StandardScaler()\n",
    "\n",
    "X_train = scaler.fit_transform(X_train)\n",
    "X_test = scaler.fit_transform(X_test)\n",
    "\n",
    "# Input variables\n",
    "print(X.columns, X_train.shape)\n"
   ]
  },
  {
   "cell_type": "markdown",
   "id": "7cf08369",
   "metadata": {},
   "source": [
    "## Train the ML model: Random Forest"
   ]
  },
  {
   "cell_type": "code",
   "execution_count": null,
   "id": "81c64171",
   "metadata": {},
   "outputs": [
    {
     "name": "stdout",
     "output_type": "stream",
     "text": [
      "Accuracy of the Random Forest model: 68.49%\n",
      "[[207  33]\n",
      " [ 94  69]]\n",
      "              precision    recall  f1-score   support\n",
      "\n",
      "           0       0.69      0.86      0.77       240\n",
      "           1       0.68      0.42      0.52       163\n",
      "\n",
      "    accuracy                           0.68       403\n",
      "   macro avg       0.68      0.64      0.64       403\n",
      "weighted avg       0.68      0.68      0.67       403\n",
      "\n"
     ]
    },
    {
     "data": {
      "text/plain": [
       "['../src/scaler.joblib']"
      ]
     },
     "execution_count": 2,
     "metadata": {},
     "output_type": "execute_result"
    }
   ],
   "source": [
    "from sklearn.ensemble import RandomForestClassifier\n",
    "from sklearn.metrics import accuracy_score, classification_report, confusion_matrix\n",
    "import joblib\n",
    "\n",
    "# Train the model\n",
    "Model_RF = RandomForestClassifier()\n",
    "Model_RF.fit(X_train,Y_train)\n",
    "\n",
    "# Prediction\n",
    "Y_pred = Model_RF.predict(X_test)\n",
    "\n",
    "# Model performance\n",
    "print(f'Accuracy of the Random Forest model: {round(accuracy_score(Y_test,Y_pred)*100,2)}%')\n",
    "print(confusion_matrix(Y_test, Y_pred))\n",
    "print(classification_report(Y_test, Y_pred))\n",
    "\n",
    "# Save the model and the scaler\n",
    "joblib.dump(Model_RF, \"../src/model.joblib\")\n",
    "joblib.dump(scaler, \"../src/scaler.joblib\")\n"
   ]
  }
 ],
 "metadata": {
  "kernelspec": {
   "display_name": ".venv",
   "language": "python",
   "name": "python3"
  },
  "language_info": {
   "codemirror_mode": {
    "name": "ipython",
    "version": 3
   },
   "file_extension": ".py",
   "mimetype": "text/x-python",
   "name": "python",
   "nbconvert_exporter": "python",
   "pygments_lexer": "ipython3",
   "version": "3.13.2"
  }
 },
 "nbformat": 4,
 "nbformat_minor": 5
}
