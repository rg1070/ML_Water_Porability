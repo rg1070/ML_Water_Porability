{
 "cells": [
  {
   "cell_type": "code",
   "execution_count": 1,
   "id": "179138ee",
   "metadata": {},
   "outputs": [],
   "source": [
    "import joblib\n",
    "import pandas as pd\n",
    "from fastapi import FastAPI\n",
    "from pydantic import BaseModel\n",
    "\n",
    "app = FastAPI()\n",
    "\n",
    "model = joblib.load(\"model.joblib\")\n",
    "scaler = joblib.load(\"scaler.joblib\")\n",
    "\n",
    "class WaterData(BaseModel):\n",
    "    ph: float\n",
    "    Hardness: float\n",
    "    Solids: float\n",
    "    Chloramines: float\n",
    "    Sulfate: float\n",
    "    Conductivity: float\n",
    "    Organic_carbon: float\n",
    "    Trihalomethanes: float\n",
    "    Turbidity: float\n",
    "\n",
    "@app.post(\"/predict\")\n",
    "def predict(data: WaterData):\n",
    "    df = pd.DataFrame([data.dict()])\n",
    "    scaled = scaler.transform(df)\n",
    "    prediction = model.predict(scaled)[0]\n",
    "    return {\"potability_prediction\": int(prediction)}\n"
   ]
  }
 ],
 "metadata": {
  "kernelspec": {
   "display_name": ".venv",
   "language": "python",
   "name": "python3"
  },
  "language_info": {
   "codemirror_mode": {
    "name": "ipython",
    "version": 3
   },
   "file_extension": ".py",
   "mimetype": "text/x-python",
   "name": "python",
   "nbconvert_exporter": "python",
   "pygments_lexer": "ipython3",
   "version": "3.13.2"
  }
 },
 "nbformat": 4,
 "nbformat_minor": 5
}
